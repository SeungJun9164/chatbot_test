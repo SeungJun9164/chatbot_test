{
 "cells": [
  {
   "cell_type": "code",
   "execution_count": 1,
   "metadata": {},
   "outputs": [],
   "source": [
    "import os\n",
    "import codecs\n",
    "import csv"
   ]
  },
  {
   "cell_type": "code",
   "execution_count": 2,
   "metadata": {},
   "outputs": [
    {
     "name": "stdout",
     "output_type": "stream",
     "text": [
      "S\t아 진짜! 사무실에서 피지 말라니깐! 간접흡연이 얼마나 안좋은데!\t분노\t\t\t\t\t\t\t\t\t\n",
      "\n",
      "\t그럼 직접흡연하는 난 얼마나 안좋겠니? 안그래? 보면 꼭... 지 생각만 하고.\t혐오\t\t\t\t\t\t\t\t\t\n",
      "\n",
      "\t손님 왔어요.\t중립\t\t\t\t\t\t\t\t\t\n",
      "\n",
      "\t손님? 누구?\t중립\t\t\t\t\t\t\t\t\t\n",
      "\n",
      "\t몰라요. 팀장님 친구래요.\t중립\t\t\t\t\t\t\t\t\t\n",
      "\n",
      "\t내 친구? 친구 누구?\t중립\t\t\t\t\t\t\t\t\t\n",
      "\n",
      "\t그걸 내가 어떻게 알아요!\t분노\t\t\t\t\t\t\t\t\t\n",
      "\n",
      "S\t그래서... 무슨 일 해?\t중립\t\t\t\t\t\t\t\t\t\n",
      "\n",
      "\t그냥 방송일 조금. \t중립\t\t\t\t\t\t\t\t\t\n",
      "\n",
      "\t방송? 방송 뭐?\t중립\t\t\t\t\t\t\t\t\t\n",
      "\n",
      "\t케이블 같은데서 아침에 배도 타고 산도 오르고. 있어 그런 거.\t중립\t\t\t\t\t\t\t\t\t\n",
      "\n",
      "\t사는 덴 어디야?\t중립\t\t\t\t\t\t\t\t\t\n",
      "\n",
      "\t개포동.\t중립\t\t\t\t\t\t\t\t\t\n",
      "\n",
      "\t남편은 뭐하는데?\t중립\t\t\t\t\t\t\t\t\t\n",
      "\n",
      "\t동사무소에서 인구조사 나왔니? 지금.\t분노\t\t\t\t\t\t\t\t\t\n",
      "\n"
     ]
    }
   ],
   "source": [
    "corpus_name = '한국어 연속 대화 데이터셋'\n",
    "corpus = os.path.join(r'C:\\Users\\abc\\Desktop', corpus_name)\n",
    "\n",
    "def printLines(file, n=15):\n",
    "    with open(file, 'r', encoding='cp949') as datafile:\n",
    "        next(datafile)\n",
    "        next(datafile)\n",
    "        lines = datafile.readlines()\n",
    "    for line in lines[:n]:\n",
    "        print(line)\n",
    "        \n",
    "printLines(os.path.join(corpus, '한국어_연속적_대화_데이터셋.txt'))"
   ]
  },
  {
   "cell_type": "code",
   "execution_count": 3,
   "metadata": {},
   "outputs": [
    {
     "data": {
      "text/plain": [
       "['아 진짜! 사무실에서 피지 말라니깐! 간접흡연이 얼마나 안좋은데! [SEP] 그럼 직접흡연하는 난 얼마나 안좋겠니? 안그래? 보면 꼭... 지 생각만 하고.',\n",
       " '그럼 직접흡연하는 난 얼마나 안좋겠니? 안그래? 보면 꼭... 지 생각만 하고. [SEP] 손님 왔어요.',\n",
       " '손님 왔어요. [SEP] 손님? 누구?',\n",
       " '손님? 누구? [SEP] 몰라요. 팀장님 친구래요.',\n",
       " '몰라요. 팀장님 친구래요. [SEP] 내 친구? 친구 누구?',\n",
       " '내 친구? 친구 누구? [SEP] 그걸 내가 어떻게 알아요!',\n",
       " '그래서... 무슨 일 해? [SEP] 그냥 방송일 조금. ',\n",
       " '그냥 방송일 조금.  [SEP] 방송? 방송 뭐?',\n",
       " '방송? 방송 뭐? [SEP] 케이블 같은데서 아침에 배도 타고 산도 오르고. 있어 그런 거.',\n",
       " '케이블 같은데서 아침에 배도 타고 산도 오르고. 있어 그런 거. [SEP] 사는 덴 어디야?',\n",
       " '사는 덴 어디야? [SEP] 개포동.',\n",
       " '개포동. [SEP] 남편은 뭐하는데?',\n",
       " '남편은 뭐하는데? [SEP] 동사무소에서 인구조사 나왔니? 지금.',\n",
       " '언제부터 시작할 수 있어? [SEP] 나? ... 나보고 하라고?',\n",
       " '나? ... 나보고 하라고? [SEP] 그럼 내가 널 왜 만나러 왔겠어?',\n",
       " '그럼 내가 널 왜 만나러 왔겠어? [SEP] 근데 왜... 나한테...?',\n",
       " '근데 왜... 나한테...? [SEP] \"내가 몇 명 만나봤는데, 보니까 죄다 사기꾼 같고 영 못 믿겠어. 아무래도 이런 일은 아는 사람한테 맡기는 게... 딴 사람들도 다 그러더라.\"',\n",
       " '\"내가 몇 명 만나봤는데, 보니까 죄다 사기꾼 같고 영 못 믿겠어. 아무래도 이런 일은 아는 사람한테 맡기는 게... 딴 사람들도 다 그러더라.\" [SEP] 에이. 내가 무슨. 나 못해.',\n",
       " '에이. 내가 무슨. 나 못해. [SEP] 왜?',\n",
       " '왜? [SEP] 나 이런 거 한번도 안 해봤어.',\n",
       " '나 이런 거 한번도 안 해봤어. [SEP] 잘됐네. 그럼 이번에 해보면 되잖아.',\n",
       " '잘됐네. 그럼 이번에 해보면 되잖아. [SEP] \"야야. 그러지말고, 내가 이런 거 잘하는데 딴데 소개 시켜줄께. 이런 거...\"',\n",
       " '\"야야. 그러지말고, 내가 이런 거 잘하는데 딴데 소개 시켜줄께. 이런 거...\" [SEP] 이런 거? 돈이 안된다 이거야? 돈 제대로 줄께. 걱정마.',\n",
       " '이런 거? 돈이 안된다 이거야? 돈 제대로 줄께. 걱정마. [SEP] 아니. 그런 게 아니라...',\n",
       " '아니. 그런 게 아니라... [SEP] 아니면 됐네.',\n",
       " '아니면 됐네. [SEP] 안된다니깐!',\n",
       " '안 내켜. [SEP] 왜요?',\n",
       " '왜요? [SEP] 뭔가 말리는 기분이야. 불길해. ',\n",
       " '뭔가 말리는 기분이야. 불길해.  [SEP] 뭐가?',\n",
       " '뭐가? [SEP] 생각해봐. 친구랍시고 갑자기 불쑥 나타나서 ‘집 져줘’ 안이상해?']"
      ]
     },
     "execution_count": 3,
     "metadata": {},
     "output_type": "execute_result"
    }
   ],
   "source": [
    "def loadLines(fileName):\n",
    "    change_list = []\n",
    "    temp_list = []\n",
    "    lines = []\n",
    "    count = 0\n",
    "    count_list = []\n",
    "    with open(fileName, 'r', encoding='cp949') as f:\n",
    "        next(f)\n",
    "        next(f)\n",
    "        for i, line in enumerate(f):\n",
    "            change_list = line.strip().split('\\t')\n",
    "\n",
    "            if change_list[0] == 'S':\n",
    "                count_list.append(count)\n",
    "                count = 0\n",
    "                temp_list.append(change_list[1])\n",
    "            else:\n",
    "                count += 1\n",
    "                temp_list.append(change_list[0])\n",
    "        \n",
    "        count = 0\n",
    "        for i in count_list[1:]: # 6, 7 ,13, 11\n",
    "            for j in range(count+1, count+i+1):\n",
    "                lines.append(temp_list[j - 1] + ' [SEP] ' + temp_list[j])\n",
    "            count = count + i + 1 # 한 대화가 끝날때마다 변해야할 변수가 필요하므로 다음대화 시작하기 위해 카운트 1증가하여 구분\n",
    "                \n",
    "    return lines\n",
    "\n",
    "lines = loadLines(os.path.join(corpus, '한국어_연속적_대화_데이터셋.txt'))\n",
    "lines[:30]"
   ]
  },
  {
   "cell_type": "code",
   "execution_count": 4,
   "metadata": {},
   "outputs": [
    {
     "name": "stdout",
     "output_type": "stream",
     "text": [
      "\n",
      "Writing newly formatted file...\n",
      "\n",
      "Sample lines from file:\n",
      "손님  왔어요.  [SEP]  손님?  누구?\n",
      "\n",
      "손님?  누구?  [SEP]  몰라요.  팀장님  친구래요.\n",
      "\n",
      "몰라요.  팀장님  친구래요.  [SEP]  내  친구?  친구  누구?\n",
      "\n",
      "\n",
      "Rewriting newly formatted file...\n",
      "\n",
      "Sample lines from file:\n",
      "손님 왔어요. [SEP] 손님? 누구?\n",
      "\n",
      "손님? 누구? [SEP] 몰라요. 팀장님 친구래요.\n",
      "\n",
      "몰라요. 팀장님 친구래요. [SEP] 내 친구? 친구 누구?\n",
      "\n"
     ]
    }
   ],
   "source": [
    "datafile = os.path.join(corpus, '한국어_연속적_대화_데이터셋_처리후.txt')\n",
    "\n",
    "delimiter = '\\t'\n",
    "delimiter = str(codecs.decode(delimiter, 'unicode_escape'))\n",
    "\n",
    "# 띄어쓰기가 2번 입력됨\n",
    "print(\"\\nWriting newly formatted file...\")\n",
    "with open(datafile, 'w', encoding='cp949') as outputfile:\n",
    "    writer = csv.writer(outputfile, delimiter=delimiter, lineterminator='\\n', quoting=csv.QUOTE_NONE, escapechar=' ')\n",
    "    #writer = csv.writer(outputfile, delimiter=delimiter, lineterminator='\\n')\n",
    "    for pair in lines:\n",
    "        writer.writerow([pair])\n",
    "\n",
    "print(\"\\nSample lines from file:\")\n",
    "printLines(datafile, n=3)\n",
    "\n",
    "# 띄어쓰기 2번을 1번으로 바꿔서 다시 저장\n",
    "print(\"\\nRewriting newly formatted file...\")\n",
    "with open(datafile, 'w', encoding='cp949') as outputfile:\n",
    "    for pair in lines:\n",
    "        outputfile.write(pair.replace('  ', ' '))\n",
    "        outputfile.write('\\n')\n",
    "        \n",
    "print(\"\\nSample lines from file:\")\n",
    "printLines(datafile, n=3)"
   ]
  },
  {
   "cell_type": "code",
   "execution_count": null,
   "metadata": {},
   "outputs": [],
   "source": []
  }
 ],
 "metadata": {
  "kernelspec": {
   "display_name": "Python 3",
   "language": "python",
   "name": "python3"
  },
  "language_info": {
   "codemirror_mode": {
    "name": "ipython",
    "version": 3
   },
   "file_extension": ".py",
   "mimetype": "text/x-python",
   "name": "python",
   "nbconvert_exporter": "python",
   "pygments_lexer": "ipython3",
   "version": "3.8.5"
  }
 },
 "nbformat": 4,
 "nbformat_minor": 4
}
